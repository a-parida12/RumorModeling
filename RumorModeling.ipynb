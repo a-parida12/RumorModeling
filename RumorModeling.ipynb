{
 "cells": [
  {
   "cell_type": "markdown",
   "metadata": {},
   "source": [
    "# MODELING RUMORS: THE NO PLANE PENTAGON FRENCH HOAX CASE"
   ]
  },
  {
   "cell_type": "markdown",
   "metadata": {},
   "source": [
    "A python based implementation of the technique described in the paper \"[Modeling Rumors:The No Plane Pentagon French Hoax Case](https://arxiv.org/abs/cond-mat/0211571)\" by [Serge Galam](mailto:galam@ccr.jussieu.fr) of CNRS, Paris.\n",
    "\n",
    "**ABSTRACT :**  \n",
    "The recent astonishing wide adhesion of french people to the rumor claiming ‘No plane did crash on the Pentagon on September the 11”, is given a generic explanation in terms of a model of minority opinion spreading. Using a majority rule reaction-diffusion dynamics, a rumor is shown to invade for sure a social group provided it fulfills simultaneously two criteria. First it must initiate with a support beyond some critical threshold which however, turns out to be always very low. Then it has to be consistent with some larger collective social paradigm of the group. Othewise it just dies out. Both conditions were satisfied in the french case with the associated book sold at more than 200 000 copies in just a few days. The rumor was stopped by the firm stand of most newspaper editors stating it is nonsense. Such an incredible social dynamics is shown to result naturally from an open and free public debate among friends and colleagues. Each one searching for the truth sincerely on a free will basis and without individual biases. The polarization process appears also to be very quick in agreement with reality. It is a very strong anti-democratic reversal of opinion although made quite democratically. The model may apply to a large range of rumors.\n"
   ]
  },
  {
   "cell_type": "code",
   "execution_count": 1,
   "metadata": {
    "collapsed": true
   },
   "outputs": [],
   "source": [
    "import numpy as np\n",
    "from sympy.solvers import solve\n",
    "from sympy import Symbol\n",
    "import math\n",
    "import matplotlib.pyplot as plt"
   ]
  },
  {
   "cell_type": "code",
   "execution_count": 2,
   "metadata": {
    "collapsed": true
   },
   "outputs": [],
   "source": [
    "def nCr(n,r):\n",
    "    f = math.factorial\n",
    "    return f(n) / (f(r)*f(n-r))"
   ]
  },
  {
   "cell_type": "markdown",
   "metadata": {},
   "source": [
    "## Some Important Variables"
   ]
  },
  {
   "cell_type": "markdown",
   "metadata": {},
   "source": [
    "In this section we setup some important variables which are required for the running of the code.  \n",
    "*MaxGroupSize*- Defines the biggest group size a person can interact with (IMHO should not exceed the group of 7 people in small social gatherings).  \n",
    "*maxDays*- The no. of days you want to study the evolution of people's believe  \n",
    "*BelieveTruth* - The ratio of people believing in the truth(not believing the rumor)"
   ]
  },
  {
   "cell_type": "code",
   "execution_count": 3,
   "metadata": {
    "collapsed": false
   },
   "outputs": [],
   "source": [
    "MaxGroupSize=7     #DO NOT CHANGE!! \n",
    "maxDays=20         \n",
    "BelieveTruth=0.90 "
   ]
  },
  {
   "cell_type": "markdown",
   "metadata": {},
   "source": [
    "## Bulding the Probability of Interaction in Every GroupSize"
   ]
  },
  {
   "cell_type": "markdown",
   "metadata": {},
   "source": [
    "This section creates the probability distrubution for each size of group that a single person interacts with in a single day. Uncomment each of the array indexes and enterthe no. of times the population interact with other people equal to the index of a in a day. The example below should give more clarity.\n",
    "\n",
    "examples:\n",
    "\n",
    "* a[0]=2 -> means the population interacts with 0 people 2 times a day (Talk to themselves maybe ;P)\n",
    "* a[3]=5 -> means the population interacts with 3 people 5 times a day"
   ]
  },
  {
   "cell_type": "code",
   "execution_count": 4,
   "metadata": {
    "collapsed": true
   },
   "outputs": [],
   "source": [
    "a=np.zeros(MaxGroupSize)\n",
    "#a[0]=0\n",
    "a[1]=1\n",
    "#a[2]=0\n",
    "a[3]=3\n",
    "#a[4]=0\n",
    "#a[5]=0\n",
    "#a[6]=5\n",
    "a=a/a.sum()"
   ]
  },
  {
   "cell_type": "markdown",
   "metadata": {},
   "source": [
    "## What is the killing point?"
   ]
  },
  {
   "cell_type": "markdown",
   "metadata": {},
   "source": [
    "This section determines the killing points for the interaction pattern described in the prevoius section."
   ]
  },
  {
   "cell_type": "code",
   "execution_count": 5,
   "metadata": {
    "collapsed": true
   },
   "outputs": [],
   "source": [
    " x = Symbol('x')\n",
    "potentialKillingPoints=np.array(solve((a[0]-1)*x\n",
    "                              +(a[1]+3*a[2])*x**2\n",
    "                              +(-2*a[2]+4*a[3]+10*a[4])*x**3\n",
    "                              +(-3*a[3]-15*a[4]+15*a[5]+35*a[6])*x**4\n",
    "                              +(6*a[4]-24*a[5]-84*a[6])*x**5\n",
    "                              +(10*a[5]+70*a[6])*x**6\n",
    "                              +50*a[6]*x**7, x))"
   ]
  },
  {
   "cell_type": "code",
   "execution_count": 6,
   "metadata": {
    "collapsed": false
   },
   "outputs": [
    {
     "name": "stdout",
     "output_type": "stream",
     "text": [
      "The killing point is at 0.8538509376029434\n"
     ]
    }
   ],
   "source": [
    "potentialKillingPoints=potentialKillingPoints.real\n",
    "location=np.where(np.logical_and(potentialKillingPoints>0, potentialKillingPoints<1))\n",
    "KillingPoints=float(potentialKillingPoints[location])\n",
    "print(\"The killing point is at\",KillingPoints)"
   ]
  },
  {
   "cell_type": "markdown",
   "metadata": {},
   "source": [
    "## Will the rumor survive or die out?"
   ]
  },
  {
   "cell_type": "markdown",
   "metadata": {},
   "source": [
    "This section tries to identify wheter the rumor will survive or die out. The check simply checks if the intial number of people believing in the truth is higher than the kiling point the rumor will die out. Else, The rumor will survive and spread in the population.  "
   ]
  },
  {
   "cell_type": "code",
   "execution_count": 7,
   "metadata": {
    "collapsed": false
   },
   "outputs": [
    {
     "name": "stdout",
     "output_type": "stream",
     "text": [
      "The rumor will die out from the population\n"
     ]
    }
   ],
   "source": [
    "if BelieveTruth>KillingPoints :\n",
    "    print(\"The rumor will die out from the population\")\n",
    "else:\n",
    "    print(\"The rumor will spread throughout the population\")"
   ]
  },
  {
   "cell_type": "markdown",
   "metadata": {},
   "source": [
    "## How does the rumor evolve over time?"
   ]
  },
  {
   "cell_type": "code",
   "execution_count": 8,
   "metadata": {
    "collapsed": true
   },
   "outputs": [],
   "source": [
    "P_plus=np.zeros(maxDays)\n",
    "P_plus[0]=BelieveTruth\n",
    "t=0\n",
    "innersum=0\n",
    "outersum=0\n"
   ]
  },
  {
   "cell_type": "code",
   "execution_count": 9,
   "metadata": {
    "collapsed": false
   },
   "outputs": [],
   "source": [
    "for t in range(0,maxDays-1):\n",
    "    for k in range(1,MaxGroupSize+1):\n",
    "        for j in range(int(k/2+1),k+1):\n",
    "            innersum=innersum+nCr(k,j)*(P_plus[t]**j)*(1-P_plus[t])**(k-j)\n",
    "        outersum=outersum+a[k-1]*innersum\n",
    "        innersum=0\n",
    "    P_plus[t+1]=outersum\n",
    "    outersum=0"
   ]
  },
  {
   "cell_type": "markdown",
   "metadata": {},
   "source": [
    "## Lets visualize it all"
   ]
  },
  {
   "cell_type": "code",
   "execution_count": 10,
   "metadata": {
    "collapsed": false
   },
   "outputs": [
    {
     "data": {
      "image/png": "[encoded data removed]",
      "text/plain": [
       "<matplotlib.figure.Figure at 0x213bbeac080>"
      ]
     },
     "metadata": {},
     "output_type": "display_data"
    }
   ],
   "source": [
    "plt.plot(P_plus)\n",
    "plt.title('Evolution of the beliefs of the population')\n",
    "plt.ylabel(\"ratio of population believing in the truth\")\n",
    "plt.xlabel(\"No. of Days Passed\")\n",
    "plt.show()"
   ]
  }
 ],
 "metadata": {
  "kernelspec": {
   "display_name": "Python 3",
   "language": "python",
   "name": "python3"
  },
  "language_info": {
   "codemirror_mode": {
    "name": "ipython",
    "version": 3
   },
   "file_extension": ".py",
   "mimetype": "text/x-python",
   "name": "python",
   "nbconvert_exporter": "python",
   "pygments_lexer": "ipython3",
   "version": "3.6.0"
  }
 },
 "nbformat": 4,
 "nbformat_minor": 2
}
